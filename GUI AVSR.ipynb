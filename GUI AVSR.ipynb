{
 "cells": [
  {
   "cell_type": "code",
   "execution_count": 1,
   "id": "794c808f-04f3-449f-975e-01e20eb75b14",
   "metadata": {},
   "outputs": [],
   "source": [
    "from tkinter import *\n",
    "from tkinter.messagebox import showinfo\n",
    "import speech_recognition as sr\n",
    "import os"
   ]
  },
  {
   "cell_type": "code",
   "execution_count": 2,
   "id": "1f4e4634",
   "metadata": {},
   "outputs": [],
   "source": [
    "mainwindow= Tk()\n",
    "mainwindow.title('             Audio-Visual Speech Recognition             ')\n",
    "mainwindow.geometry('500x500')\n",
    "mainwindow.resizable(0, 0)\n",
    "mainwindow.configure(bg='#123456')"
   ]
  },
  {
   "cell_type": "code",
   "execution_count": 3,
   "id": "f512dddb",
   "metadata": {},
   "outputs": [],
   "source": [
    "def recordvoice():\n",
    "    while True:\n",
    "        r = sr.Recognizer()\n",
    "        with sr.Microphone() as source:\n",
    "        # read the audio data from the default microphone\n",
    "            audio_data = r.record(source, duration=10)\n",
    "       \n",
    "        # convert speech to text\n",
    "            try :\n",
    "                text = r.recognize_google(audio_data)\n",
    "            except :\n",
    "                pass\n",
    "            return text\n",
    "            "
   ]
  },
  {
   "cell_type": "code",
   "execution_count": 4,
   "id": "83d6653b",
   "metadata": {},
   "outputs": [
    {
     "name": "stderr",
     "output_type": "stream",
     "text": [
      "Exception in Tkinter callback\n",
      "Traceback (most recent call last):\n",
      "  File \"C:\\Users\\Tejaswi2003\\anaconda3\\lib\\tkinter\\__init__.py\", line 1892, in __call__\n",
      "    return self.func(*args)\n",
      "  File \"C:\\Users\\Tejaswi2003\\AppData\\Local\\Temp\\ipykernel_23088\\3152578114.py\", line 12, in <lambda>\n",
      "    recordbutton = Button(speechtotextwindow, text='Record', bg='#16F529', command=lambda: text.insert(END, recordvoice()))\n",
      "  File \"C:\\Users\\Tejaswi2003\\AppData\\Local\\Temp\\ipykernel_23088\\2521306444.py\", line 13, in recordvoice\n",
      "    return text\n",
      "UnboundLocalError: local variable 'text' referenced before assignment\n",
      "Exception in Tkinter callback\n",
      "Traceback (most recent call last):\n",
      "  File \"C:\\Users\\Tejaswi2003\\anaconda3\\lib\\tkinter\\__init__.py\", line 1892, in __call__\n",
      "    return self.func(*args)\n",
      "  File \"C:\\Users\\Tejaswi2003\\AppData\\Local\\Temp\\ipykernel_23088\\3152578114.py\", line 12, in <lambda>\n",
      "    recordbutton = Button(speechtotextwindow, text='Record', bg='#16F529', command=lambda: text.insert(END, recordvoice()))\n",
      "  File \"C:\\Users\\Tejaswi2003\\AppData\\Local\\Temp\\ipykernel_23088\\2521306444.py\", line 13, in recordvoice\n",
      "    return text\n",
      "UnboundLocalError: local variable 'text' referenced before assignment\n",
      "Exception in Tkinter callback\n",
      "Traceback (most recent call last):\n",
      "  File \"C:\\Users\\Tejaswi2003\\anaconda3\\lib\\tkinter\\__init__.py\", line 1892, in __call__\n",
      "    return self.func(*args)\n",
      "  File \"C:\\Users\\Tejaswi2003\\AppData\\Local\\Temp\\ipykernel_23088\\3152578114.py\", line 12, in <lambda>\n",
      "    recordbutton = Button(speechtotextwindow, text='Record', bg='#16F529', command=lambda: text.insert(END, recordvoice()))\n",
      "  File \"C:\\Users\\Tejaswi2003\\AppData\\Local\\Temp\\ipykernel_23088\\2521306444.py\", line 13, in recordvoice\n",
      "    return text\n",
      "UnboundLocalError: local variable 'text' referenced before assignment\n"
     ]
    }
   ],
   "source": [
    "def SpeechToText():\n",
    "    speechtotextwindow = Toplevel(mainwindow)\n",
    "    speechtotextwindow.title('Audio recognition')\n",
    "    speechtotextwindow.geometry(\"500x500\")\n",
    "    speechtotextwindow.configure(bg='#B7CEEC')\n",
    " \n",
    "    Label(speechtotextwindow, text='      Audio-Visual Speech Recognition     ', font=(\"Comic Sans MS\", 15), bg='#00FFFF').place(x=80)\n",
    " \n",
    "    text = Text(speechtotextwindow, font=12, height=3, width=40)\n",
    "    text.place(x=20, y=100)\n",
    "   \n",
    "    recordbutton = Button(speechtotextwindow, text='Record', bg='#16F529', command=lambda: text.insert(END, recordvoice()))\n",
    "    recordbutton.place(x=20, y=50)\n",
    " \n",
    "Label(mainwindow, text='             Audio-Visual Speech Recognition             ',\n",
    "     font=('Times New Roman', 16), bg='#00FFFF', wrap=True, wraplength=450).place(x=25, y=5)\n",
    " \n",
    "\n",
    " \n",
    "speechtotextbutton = Button(mainwindow, text='Audio Recognition', font=('Times New Roman', 16), bg='#B7CEEC', command=SpeechToText)\n",
    "speechtotextbutton.place(x=150, y=150)\n",
    " \n",
    "mainwindow.update()\n",
    "mainwindow.mainloop()"
   ]
  },
  {
   "cell_type": "code",
   "execution_count": null,
   "id": "6ebef6e0",
   "metadata": {},
   "outputs": [],
   "source": []
  }
 ],
 "metadata": {
  "kernelspec": {
   "display_name": "Python 3 (ipykernel)",
   "language": "python",
   "name": "python3"
  },
  "language_info": {
   "codemirror_mode": {
    "name": "ipython",
    "version": 3
   },
   "file_extension": ".py",
   "mimetype": "text/x-python",
   "name": "python",
   "nbconvert_exporter": "python",
   "pygments_lexer": "ipython3",
   "version": "3.9.7"
  }
 },
 "nbformat": 4,
 "nbformat_minor": 5
}
